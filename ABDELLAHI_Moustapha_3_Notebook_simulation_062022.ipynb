{
 "cells": [
  {
   "cell_type": "code",
   "execution_count": 1,
   "id": "4a3302f5",
   "metadata": {},
   "outputs": [],
   "source": [
    "import pandas as pd\n",
    "import seaborn as sns\n",
    "import numpy as np\n",
    "import matplotlib.pyplot as plt\n",
    "from sklearn.preprocessing import OneHotEncoder\n",
    "from scipy.stats import pearsonr\n",
    "from sklearn.datasets import make_blobs\n",
    "from sklearn import metrics\n",
    "from sklearn import preprocessing\n",
    "from sklearn.manifold import TSNE\n",
    "from sklearn.cluster import KMeans, DBSCAN\n",
    "from scipy.spatial.distance import cdist \n",
    "from sklearn.metrics import pairwise_distances\n",
    "from sklearn.cluster import AgglomerativeClustering\n",
    "from datetime import timedelta, date\n",
    "pd.set_option('display.max_columns',200)\n",
    "pd.set_option('display.max_rows',1000)\n",
    "pd.set_option('display.max_colwidth',None)"
   ]
  },
  {
   "cell_type": "code",
   "execution_count": 2,
   "id": "88619668",
   "metadata": {},
   "outputs": [],
   "source": [
    "df9=pd.read_csv(\"exploration.csv\", index_col=0, parse_dates=True)\n"
   ]
  },
  {
   "cell_type": "code",
   "execution_count": 3,
   "id": "c2161c16",
   "metadata": {},
   "outputs": [],
   "source": [
    "# Convert the type of \"order_purchase_timestamp\" at datetime \n",
    "df9['order_purchase_timestamp']=pd.to_datetime(df9['order_purchase_timestamp'])"
   ]
  },
  {
   "cell_type": "code",
   "execution_count": 4,
   "id": "a85bf0bf",
   "metadata": {},
   "outputs": [
    {
     "data": {
      "text/plain": [
       "Timestamp('2016-10-03 09:44:50')"
      ]
     },
     "execution_count": 4,
     "metadata": {},
     "output_type": "execute_result"
    }
   ],
   "source": [
    "# Start of data\n",
    "#----------------------\n",
    "start=df9['order_purchase_timestamp'].min()\n",
    "start"
   ]
  },
  {
   "cell_type": "code",
   "execution_count": 5,
   "id": "707e9d84",
   "metadata": {},
   "outputs": [
    {
     "data": {
      "text/plain": [
       "pandas._libs.tslibs.timestamps.Timestamp"
      ]
     },
     "execution_count": 5,
     "metadata": {},
     "output_type": "execute_result"
    }
   ],
   "source": [
    "type(start)"
   ]
  },
  {
   "cell_type": "code",
   "execution_count": 6,
   "id": "dc5e4e45",
   "metadata": {},
   "outputs": [
    {
     "data": {
      "text/plain": [
       "Timestamp('2018-08-29 15:00:37')"
      ]
     },
     "execution_count": 6,
     "metadata": {},
     "output_type": "execute_result"
    }
   ],
   "source": [
    "# End of data\n",
    "#---------------------\n",
    "end=df9['order_purchase_timestamp'].max()\n",
    "end"
   ]
  },
  {
   "cell_type": "code",
   "execution_count": 7,
   "id": "3278c17e",
   "metadata": {},
   "outputs": [
    {
     "data": {
      "text/plain": [
       "pandas._libs.tslibs.timestamps.Timestamp"
      ]
     },
     "execution_count": 7,
     "metadata": {},
     "output_type": "execute_result"
    }
   ],
   "source": [
    "type(end)"
   ]
  },
  {
   "cell_type": "code",
   "execution_count": 8,
   "id": "2d5a3f65",
   "metadata": {},
   "outputs": [
    {
     "data": {
      "text/plain": [
       "customer_unique_id                  object\n",
       "order_id                            object\n",
       "order_purchase_timestamp    datetime64[ns]\n",
       "order_item_id                        int64\n",
       "product_category_name               object\n",
       "product_category                    object\n",
       "delivery_duration                  float64\n",
       "total_cost                         float64\n",
       "books_cds_media                    float64\n",
       "fashion_clothing                   float64\n",
       "gifts_flowers                      float64\n",
       "health_beauty                      float64\n",
       "others                             float64\n",
       "sports_outdoor                     float64\n",
       "technology                         float64\n",
       "mean_score                         float64\n",
       "total_orders                         int64\n",
       "Recency                            float64\n",
       "Frequency                          float64\n",
       "Monetary                           float64\n",
       "dtype: object"
      ]
     },
     "execution_count": 8,
     "metadata": {},
     "output_type": "execute_result"
    }
   ],
   "source": [
    "df9.dtypes"
   ]
  },
  {
   "cell_type": "code",
   "execution_count": 9,
   "id": "6b3fbaef",
   "metadata": {},
   "outputs": [],
   "source": [
    "#df9[['order_purchase_timestamp']]"
   ]
  },
  {
   "cell_type": "code",
   "execution_count": 10,
   "id": "c1c32863",
   "metadata": {},
   "outputs": [],
   "source": [
    "\n",
    "\n",
    "# Datetime operations\n",
    "import datetime as dt\n"
   ]
  },
  {
   "cell_type": "code",
   "execution_count": 11,
   "id": "e4f5a5e1",
   "metadata": {},
   "outputs": [
    {
     "data": {
      "text/plain": [
       "datetime.datetime(2018, 8, 30, 0, 0)"
      ]
     },
     "execution_count": 11,
     "metadata": {},
     "output_type": "execute_result"
    }
   ],
   "source": [
    "#Assign the next day after the last date recorded in the dataset as 'today'\n",
    "\n",
    "today = dt.datetime(2018,8,30)\n",
    "today\n"
   ]
  },
  {
   "cell_type": "code",
   "execution_count": 12,
   "id": "0b3fdd72",
   "metadata": {},
   "outputs": [],
   "source": [
    "#dmin=dt.datetime(2016,10,3)"
   ]
  },
  {
   "cell_type": "code",
   "execution_count": 13,
   "id": "7f0405d8",
   "metadata": {},
   "outputs": [],
   "source": [
    "#dmax=dt.datetime(2017,10,3)"
   ]
  },
  {
   "cell_type": "code",
   "execution_count": 14,
   "id": "e790ec8d",
   "metadata": {},
   "outputs": [],
   "source": [
    "#df_y1.shape"
   ]
  },
  {
   "cell_type": "markdown",
   "id": "b7303afb",
   "metadata": {},
   "source": [
    "<b> KMeans Clustering <b>"
   ]
  },
  {
   "cell_type": "code",
   "execution_count": 15,
   "id": "9be585e9",
   "metadata": {},
   "outputs": [],
   "source": [
    "# Clustering Librairies import\n",
    "from sklearn.cluster import KMeans\n",
    "from sklearn.cluster import MeanShift, estimate_bandwidth\n",
    "from yellowbrick.cluster import KElbowVisualizer, SilhouetteVisualizer, InterclusterDistance\n",
    "from sklearn.pipeline import Pipeline, make_pipeline"
   ]
  },
  {
   "cell_type": "code",
   "execution_count": 16,
   "id": "7f9439a5",
   "metadata": {},
   "outputs": [],
   "source": [
    "from sklearn.preprocessing import StandardScaler, MinMaxScaler\n",
    "from sklearn.compose import ColumnTransformer, make_column_transformer\n",
    "from sklearn import metrics\n",
    "from sklearn.metrics import silhouette_samples, silhouette_score"
   ]
  },
  {
   "cell_type": "code",
   "execution_count": 17,
   "id": "72848f07",
   "metadata": {},
   "outputs": [
    {
     "name": "stdout",
     "output_type": "stream",
     "text": [
      "2016-10-03\n",
      "2016-10-18\n",
      "2016-11-02\n",
      "2016-11-17\n",
      "2016-12-02\n"
     ]
    }
   ],
   "source": [
    "\n",
    "def date_range(start, end, step: dt.timedelta):\n",
    "    while start < end:\n",
    "        yield start\n",
    "        start += step\n",
    "\n",
    "\n",
    "for d in date_range(start=dt.date(2016, 10, 3),end=dt.date(2016, 12, 3),step=dt.timedelta(days=15)):\n",
    "    print(d)"
   ]
  },
  {
   "cell_type": "code",
   "execution_count": 18,
   "id": "4a52daba",
   "metadata": {},
   "outputs": [],
   "source": [
    "from math import *\n",
    "from sklearn.metrics.cluster import adjusted_rand_score"
   ]
  },
  {
   "cell_type": "markdown",
   "id": "ef97a6f3",
   "metadata": {},
   "source": [
    "<b> Etude temporelle: <b>"
   ]
  },
  {
   "cell_type": "code",
   "execution_count": 19,
   "id": "99140436",
   "metadata": {},
   "outputs": [
    {
     "data": {
      "text/plain": [
       "datetime.datetime(2016, 10, 3, 0, 0)"
      ]
     },
     "execution_count": 19,
     "metadata": {},
     "output_type": "execute_result"
    }
   ],
   "source": [
    "tmin=dt.datetime(2016,10,3)\n",
    "tmin"
   ]
  },
  {
   "cell_type": "code",
   "execution_count": 20,
   "id": "3b3e5b27",
   "metadata": {},
   "outputs": [
    {
     "data": {
      "text/plain": [
       "datetime.datetime(2017, 10, 3, 0, 0)"
      ]
     },
     "execution_count": 20,
     "metadata": {},
     "output_type": "execute_result"
    }
   ],
   "source": [
    "\n",
    "tmax=dt.datetime(2017,10,3)\n",
    "tmax\n"
   ]
  },
  {
   "cell_type": "code",
   "execution_count": 21,
   "id": "023bec2c",
   "metadata": {},
   "outputs": [],
   "source": [
    "data=df9[['customer_unique_id','order_id','order_purchase_timestamp', 'delivery_duration','total_cost', 'mean_score', 'total_orders','Recency','Frequency','Monetary']]"
   ]
  },
  {
   "cell_type": "code",
   "execution_count": 22,
   "id": "2ef65790",
   "metadata": {},
   "outputs": [
    {
     "data": {
      "text/html": [
       "<div>\n",
       "<style scoped>\n",
       "    .dataframe tbody tr th:only-of-type {\n",
       "        vertical-align: middle;\n",
       "    }\n",
       "\n",
       "    .dataframe tbody tr th {\n",
       "        vertical-align: top;\n",
       "    }\n",
       "\n",
       "    .dataframe thead th {\n",
       "        text-align: right;\n",
       "    }\n",
       "</style>\n",
       "<table border=\"1\" class=\"dataframe\">\n",
       "  <thead>\n",
       "    <tr style=\"text-align: right;\">\n",
       "      <th></th>\n",
       "      <th>customer_unique_id</th>\n",
       "      <th>order_id</th>\n",
       "      <th>order_purchase_timestamp</th>\n",
       "      <th>delivery_duration</th>\n",
       "      <th>total_cost</th>\n",
       "      <th>mean_score</th>\n",
       "      <th>total_orders</th>\n",
       "      <th>Recency</th>\n",
       "      <th>Frequency</th>\n",
       "      <th>Monetary</th>\n",
       "    </tr>\n",
       "  </thead>\n",
       "  <tbody>\n",
       "    <tr>\n",
       "      <th>0</th>\n",
       "      <td>861eff4711a542e4b93843c6dd7febb0</td>\n",
       "      <td>00e7ee1b050b8499577073aeb2a297a1</td>\n",
       "      <td>2017-05-16 15:05:35</td>\n",
       "      <td>9.0</td>\n",
       "      <td>146.87</td>\n",
       "      <td>4.0</td>\n",
       "      <td>1</td>\n",
       "      <td>111.0</td>\n",
       "      <td>1.0</td>\n",
       "      <td>141.90</td>\n",
       "    </tr>\n",
       "    <tr>\n",
       "      <th>1</th>\n",
       "      <td>9eae34bbd3a474ec5d07949ca7de67c0</td>\n",
       "      <td>c1d2b34febe9cd269e378117d6681172</td>\n",
       "      <td>2017-11-09 00:50:13</td>\n",
       "      <td>19.0</td>\n",
       "      <td>137.89</td>\n",
       "      <td>1.0</td>\n",
       "      <td>2</td>\n",
       "      <td>114.0</td>\n",
       "      <td>1.0</td>\n",
       "      <td>27.19</td>\n",
       "    </tr>\n",
       "    <tr>\n",
       "      <th>2</th>\n",
       "      <td>9eae34bbd3a474ec5d07949ca7de67c0</td>\n",
       "      <td>c1d2b34febe9cd269e378117d6681172</td>\n",
       "      <td>2017-11-09 00:50:13</td>\n",
       "      <td>19.0</td>\n",
       "      <td>137.89</td>\n",
       "      <td>1.0</td>\n",
       "      <td>2</td>\n",
       "      <td>537.0</td>\n",
       "      <td>1.0</td>\n",
       "      <td>86.22</td>\n",
       "    </tr>\n",
       "    <tr>\n",
       "      <th>3</th>\n",
       "      <td>3c799d181c34d51f6d44bbbc563024db</td>\n",
       "      <td>b1a5d5365d330d10485e0203d54ab9e8</td>\n",
       "      <td>2017-05-07 20:11:26</td>\n",
       "      <td>19.0</td>\n",
       "      <td>140.61</td>\n",
       "      <td>3.0</td>\n",
       "      <td>1</td>\n",
       "      <td>321.0</td>\n",
       "      <td>1.0</td>\n",
       "      <td>43.62</td>\n",
       "    </tr>\n",
       "    <tr>\n",
       "      <th>4</th>\n",
       "      <td>23397e992b09769faf5e66f9e171a241</td>\n",
       "      <td>2e604b3614664aa66867856dba7e61b7</td>\n",
       "      <td>2018-02-03 19:45:40</td>\n",
       "      <td>25.0</td>\n",
       "      <td>137.58</td>\n",
       "      <td>4.0</td>\n",
       "      <td>1</td>\n",
       "      <td>288.0</td>\n",
       "      <td>1.0</td>\n",
       "      <td>196.89</td>\n",
       "    </tr>\n",
       "  </tbody>\n",
       "</table>\n",
       "</div>"
      ],
      "text/plain": [
       "                 customer_unique_id                          order_id  \\\n",
       "0  861eff4711a542e4b93843c6dd7febb0  00e7ee1b050b8499577073aeb2a297a1   \n",
       "1  9eae34bbd3a474ec5d07949ca7de67c0  c1d2b34febe9cd269e378117d6681172   \n",
       "2  9eae34bbd3a474ec5d07949ca7de67c0  c1d2b34febe9cd269e378117d6681172   \n",
       "3  3c799d181c34d51f6d44bbbc563024db  b1a5d5365d330d10485e0203d54ab9e8   \n",
       "4  23397e992b09769faf5e66f9e171a241  2e604b3614664aa66867856dba7e61b7   \n",
       "\n",
       "  order_purchase_timestamp  delivery_duration  total_cost  mean_score  \\\n",
       "0      2017-05-16 15:05:35                9.0      146.87         4.0   \n",
       "1      2017-11-09 00:50:13               19.0      137.89         1.0   \n",
       "2      2017-11-09 00:50:13               19.0      137.89         1.0   \n",
       "3      2017-05-07 20:11:26               19.0      140.61         3.0   \n",
       "4      2018-02-03 19:45:40               25.0      137.58         4.0   \n",
       "\n",
       "   total_orders  Recency  Frequency  Monetary  \n",
       "0             1    111.0        1.0    141.90  \n",
       "1             2    114.0        1.0     27.19  \n",
       "2             2    537.0        1.0     86.22  \n",
       "3             1    321.0        1.0     43.62  \n",
       "4             1    288.0        1.0    196.89  "
      ]
     },
     "execution_count": 22,
     "metadata": {},
     "output_type": "execute_result"
    }
   ],
   "source": [
    "data.head()"
   ]
  },
  {
   "cell_type": "code",
   "execution_count": 23,
   "id": "c77a2d46",
   "metadata": {},
   "outputs": [
    {
     "data": {
      "text/plain": [
       "(91521, 10)"
      ]
     },
     "execution_count": 23,
     "metadata": {},
     "output_type": "execute_result"
    }
   ],
   "source": [
    "data.shape"
   ]
  },
  {
   "cell_type": "code",
   "execution_count": 24,
   "id": "5158ef8c",
   "metadata": {},
   "outputs": [
    {
     "data": {
      "text/plain": [
       "customer_unique_id                  object\n",
       "order_id                            object\n",
       "order_purchase_timestamp    datetime64[ns]\n",
       "delivery_duration                  float64\n",
       "total_cost                         float64\n",
       "mean_score                         float64\n",
       "total_orders                         int64\n",
       "Recency                            float64\n",
       "Frequency                          float64\n",
       "Monetary                           float64\n",
       "dtype: object"
      ]
     },
     "execution_count": 24,
     "metadata": {},
     "output_type": "execute_result"
    }
   ],
   "source": [
    "data.dtypes"
   ]
  },
  {
   "cell_type": "code",
   "execution_count": 25,
   "id": "48d87ee7",
   "metadata": {},
   "outputs": [
    {
     "data": {
      "text/plain": [
       "datetime.datetime"
      ]
     },
     "execution_count": 25,
     "metadata": {},
     "output_type": "execute_result"
    }
   ],
   "source": [
    "tmin0=dt.datetime(2016,10,3)\n",
    "type(tmin0)"
   ]
  },
  {
   "cell_type": "code",
   "execution_count": 26,
   "id": "044786d1",
   "metadata": {},
   "outputs": [
    {
     "data": {
      "text/plain": [
       "datetime.datetime"
      ]
     },
     "execution_count": 26,
     "metadata": {},
     "output_type": "execute_result"
    }
   ],
   "source": [
    "tmax0=dt.datetime(2017,10,3)\n",
    "type(tmax0)"
   ]
  },
  {
   "cell_type": "code",
   "execution_count": 27,
   "id": "8920f024",
   "metadata": {},
   "outputs": [
    {
     "name": "stderr",
     "output_type": "stream",
     "text": [
      "/var/folders/27/wwsy152x0030nt23722_jnwc0000gq/T/ipykernel_1345/1137859175.py:1: SettingWithCopyWarning: \n",
      "A value is trying to be set on a copy of a slice from a DataFrame.\n",
      "Try using .loc[row_indexer,col_indexer] = value instead\n",
      "\n",
      "See the caveats in the documentation: https://pandas.pydata.org/pandas-docs/stable/user_guide/indexing.html#returning-a-view-versus-a-copy\n",
      "  data['order_purchase_timestamp'] = pd.to_datetime(data['order_purchase_timestamp'], format='%y-%m-%d')\n"
     ]
    },
    {
     "data": {
      "text/plain": [
       "(25427, 10)"
      ]
     },
     "execution_count": 27,
     "metadata": {},
     "output_type": "execute_result"
    }
   ],
   "source": [
    "data['order_purchase_timestamp'] = pd.to_datetime(data['order_purchase_timestamp'], format='%y-%m-%d')\n",
    "    \n",
    "df1=data[(data['order_purchase_timestamp'] >= tmin0)& (data['order_purchase_timestamp'] <= tmax0)]\n",
    "df1.shape"
   ]
  },
  {
   "cell_type": "code",
   "execution_count": 28,
   "id": "7f846ac4",
   "metadata": {},
   "outputs": [
    {
     "data": {
      "text/plain": [
       "customer_unique_id                  object\n",
       "order_id                            object\n",
       "order_purchase_timestamp    datetime64[ns]\n",
       "delivery_duration                  float64\n",
       "total_cost                         float64\n",
       "mean_score                         float64\n",
       "total_orders                         int64\n",
       "Recency                            float64\n",
       "Frequency                          float64\n",
       "Monetary                           float64\n",
       "dtype: object"
      ]
     },
     "execution_count": 28,
     "metadata": {},
     "output_type": "execute_result"
    }
   ],
   "source": [
    "df1.dtypes"
   ]
  },
  {
   "cell_type": "code",
   "execution_count": 29,
   "id": "4d2345bb",
   "metadata": {},
   "outputs": [],
   "source": [
    "tmin1=dt.datetime(2016,10,10)\n",
    "tmax1=dt.datetime(2017,10,10)"
   ]
  },
  {
   "cell_type": "code",
   "execution_count": 30,
   "id": "2e6b1547",
   "metadata": {},
   "outputs": [
    {
     "name": "stdout",
     "output_type": "stream",
     "text": [
      "La première année 365 jours.\n"
     ]
    }
   ],
   "source": [
    "time1_year1 = (tmax1 - tmin1).days\n",
    "print(\"La première année {} jours.\".format(time1_year1))"
   ]
  },
  {
   "cell_type": "code",
   "execution_count": 31,
   "id": "45eccb7d",
   "metadata": {},
   "outputs": [],
   "source": [
    "df2=data[(data['order_purchase_timestamp'] >= tmin1)& (data['order_purchase_timestamp'] <= tmax1)]"
   ]
  },
  {
   "cell_type": "code",
   "execution_count": 32,
   "id": "a1cf1c0e",
   "metadata": {},
   "outputs": [
    {
     "data": {
      "text/plain": [
       "26217"
      ]
     },
     "execution_count": 32,
     "metadata": {},
     "output_type": "execute_result"
    }
   ],
   "source": [
    "len(df2)"
   ]
  },
  {
   "cell_type": "code",
   "execution_count": 33,
   "id": "2f1d48fe",
   "metadata": {},
   "outputs": [],
   "source": [
    "df3=df9[df9['order_purchase_timestamp'].dt.dayofyear <100]"
   ]
  },
  {
   "cell_type": "code",
   "execution_count": 34,
   "id": "edc4ca9a",
   "metadata": {},
   "outputs": [
    {
     "data": {
      "text/plain": [
       "27142"
      ]
     },
     "execution_count": 34,
     "metadata": {},
     "output_type": "execute_result"
    }
   ],
   "source": [
    "len(df3)"
   ]
  },
  {
   "cell_type": "code",
   "execution_count": 35,
   "id": "dcdabe9f",
   "metadata": {},
   "outputs": [
    {
     "data": {
      "text/html": [
       "<div>\n",
       "<style scoped>\n",
       "    .dataframe tbody tr th:only-of-type {\n",
       "        vertical-align: middle;\n",
       "    }\n",
       "\n",
       "    .dataframe tbody tr th {\n",
       "        vertical-align: top;\n",
       "    }\n",
       "\n",
       "    .dataframe thead th {\n",
       "        text-align: right;\n",
       "    }\n",
       "</style>\n",
       "<table border=\"1\" class=\"dataframe\">\n",
       "  <thead>\n",
       "    <tr style=\"text-align: right;\">\n",
       "      <th></th>\n",
       "      <th>customer_unique_id</th>\n",
       "      <th>order_id</th>\n",
       "      <th>order_purchase_timestamp</th>\n",
       "      <th>delivery_duration</th>\n",
       "      <th>total_cost</th>\n",
       "      <th>mean_score</th>\n",
       "      <th>total_orders</th>\n",
       "      <th>Recency</th>\n",
       "      <th>Frequency</th>\n",
       "      <th>Monetary</th>\n",
       "    </tr>\n",
       "  </thead>\n",
       "  <tbody>\n",
       "    <tr>\n",
       "      <th>0</th>\n",
       "      <td>861eff4711a542e4b93843c6dd7febb0</td>\n",
       "      <td>00e7ee1b050b8499577073aeb2a297a1</td>\n",
       "      <td>2017-05-16 15:05:35</td>\n",
       "      <td>9.0</td>\n",
       "      <td>146.87</td>\n",
       "      <td>4.0</td>\n",
       "      <td>1</td>\n",
       "      <td>111.0</td>\n",
       "      <td>1.0</td>\n",
       "      <td>141.90</td>\n",
       "    </tr>\n",
       "    <tr>\n",
       "      <th>3</th>\n",
       "      <td>3c799d181c34d51f6d44bbbc563024db</td>\n",
       "      <td>b1a5d5365d330d10485e0203d54ab9e8</td>\n",
       "      <td>2017-05-07 20:11:26</td>\n",
       "      <td>19.0</td>\n",
       "      <td>140.61</td>\n",
       "      <td>3.0</td>\n",
       "      <td>1</td>\n",
       "      <td>321.0</td>\n",
       "      <td>1.0</td>\n",
       "      <td>43.62</td>\n",
       "    </tr>\n",
       "    <tr>\n",
       "      <th>5</th>\n",
       "      <td>567ab47ca4deb92d46dbf54dce07d0a7</td>\n",
       "      <td>574fe1739f65af76badd0999db300b4f</td>\n",
       "      <td>2017-03-23 15:10:17</td>\n",
       "      <td>19.0</td>\n",
       "      <td>142.05</td>\n",
       "      <td>4.0</td>\n",
       "      <td>1</td>\n",
       "      <td>146.0</td>\n",
       "      <td>1.0</td>\n",
       "      <td>166.98</td>\n",
       "    </tr>\n",
       "    <tr>\n",
       "      <th>6</th>\n",
       "      <td>f40ab89b622248b7ca125af4b486b887</td>\n",
       "      <td>e0b26f14d2bcc710bb02f77a4628763b</td>\n",
       "      <td>2017-05-16 10:00:49</td>\n",
       "      <td>13.0</td>\n",
       "      <td>155.70</td>\n",
       "      <td>4.0</td>\n",
       "      <td>1</td>\n",
       "      <td>131.0</td>\n",
       "      <td>1.0</td>\n",
       "      <td>35.38</td>\n",
       "    </tr>\n",
       "    <tr>\n",
       "      <th>7</th>\n",
       "      <td>749943913a9851a39c9baf51877fbab6</td>\n",
       "      <td>eaae5bd20fb15d85aa673d9b7c0e8ca5</td>\n",
       "      <td>2017-03-18 23:04:36</td>\n",
       "      <td>72.0</td>\n",
       "      <td>148.33</td>\n",
       "      <td>2.0</td>\n",
       "      <td>1</td>\n",
       "      <td>182.0</td>\n",
       "      <td>1.0</td>\n",
       "      <td>209.59</td>\n",
       "    </tr>\n",
       "  </tbody>\n",
       "</table>\n",
       "</div>"
      ],
      "text/plain": [
       "                 customer_unique_id                          order_id  \\\n",
       "0  861eff4711a542e4b93843c6dd7febb0  00e7ee1b050b8499577073aeb2a297a1   \n",
       "3  3c799d181c34d51f6d44bbbc563024db  b1a5d5365d330d10485e0203d54ab9e8   \n",
       "5  567ab47ca4deb92d46dbf54dce07d0a7  574fe1739f65af76badd0999db300b4f   \n",
       "6  f40ab89b622248b7ca125af4b486b887  e0b26f14d2bcc710bb02f77a4628763b   \n",
       "7  749943913a9851a39c9baf51877fbab6  eaae5bd20fb15d85aa673d9b7c0e8ca5   \n",
       "\n",
       "  order_purchase_timestamp  delivery_duration  total_cost  mean_score  \\\n",
       "0      2017-05-16 15:05:35                9.0      146.87         4.0   \n",
       "3      2017-05-07 20:11:26               19.0      140.61         3.0   \n",
       "5      2017-03-23 15:10:17               19.0      142.05         4.0   \n",
       "6      2017-05-16 10:00:49               13.0      155.70         4.0   \n",
       "7      2017-03-18 23:04:36               72.0      148.33         2.0   \n",
       "\n",
       "   total_orders  Recency  Frequency  Monetary  \n",
       "0             1    111.0        1.0    141.90  \n",
       "3             1    321.0        1.0     43.62  \n",
       "5             1    146.0        1.0    166.98  \n",
       "6             1    131.0        1.0     35.38  \n",
       "7             1    182.0        1.0    209.59  "
      ]
     },
     "execution_count": 35,
     "metadata": {},
     "output_type": "execute_result"
    }
   ],
   "source": [
    "df2.head()"
   ]
  },
  {
   "cell_type": "code",
   "execution_count": 36,
   "id": "f12e10e5",
   "metadata": {},
   "outputs": [
    {
     "name": "stdout",
     "output_type": "stream",
     "text": [
      "25427\n",
      "29596\n",
      "36939\n",
      "41876\n",
      "48432\n",
      "55380\n",
      "61935\n",
      "68391\n",
      "74869\n",
      "80582\n",
      "85623\n"
     ]
    }
   ],
   "source": [
    "tmin=dt.datetime(2016,10,3)\n",
    "for tmax in date_range(start=dt.datetime(2017, 10, 3),end=dt.datetime(2018, 8, 3),step=dt.timedelta(days=30)):\n",
    "    df=data[(data['order_purchase_timestamp'] >= tmin)& (data['order_purchase_timestamp'] <= tmax)]\n",
    "    print(len(df))\n"
   ]
  },
  {
   "cell_type": "code",
   "execution_count": 37,
   "id": "2af90913",
   "metadata": {},
   "outputs": [
    {
     "name": "stdout",
     "output_type": "stream",
     "text": [
      "La période complète des commandes en 22 mois.\n"
     ]
    }
   ],
   "source": [
    "time_period = int((end - start)/np.timedelta64(1,'M'))\n",
    "print(\"La période complète des commandes en {} mois.\".format(time_period))"
   ]
  },
  {
   "cell_type": "code",
   "execution_count": 38,
   "id": "04ff3912",
   "metadata": {},
   "outputs": [
    {
     "data": {
      "text/plain": [
       "pandas._libs.tslibs.timestamps.Timestamp"
      ]
     },
     "execution_count": 38,
     "metadata": {},
     "output_type": "execute_result"
    }
   ],
   "source": [
    "type(end)"
   ]
  },
  {
   "cell_type": "code",
   "execution_count": 39,
   "id": "d572b4a0",
   "metadata": {},
   "outputs": [],
   "source": [
    "tmin0=dt.datetime(2016,10,3)\n",
    "tmax0=dt.datetime(2017,10,3)"
   ]
  },
  {
   "cell_type": "code",
   "execution_count": 40,
   "id": "c14ceed4",
   "metadata": {},
   "outputs": [
    {
     "data": {
      "text/plain": [
       "datetime.datetime"
      ]
     },
     "execution_count": 40,
     "metadata": {},
     "output_type": "execute_result"
    }
   ],
   "source": [
    "type(tmin0)"
   ]
  },
  {
   "cell_type": "code",
   "execution_count": 41,
   "id": "5562658a",
   "metadata": {},
   "outputs": [
    {
     "name": "stdout",
     "output_type": "stream",
     "text": [
      "La première année 365 jours.\n"
     ]
    }
   ],
   "source": [
    "time_year1 = (tmax0 - tmin0).days\n",
    "print(\"La première année {} jours.\".format(time_year1))"
   ]
  },
  {
   "cell_type": "code",
   "execution_count": 42,
   "id": "3671e74b",
   "metadata": {},
   "outputs": [
    {
     "name": "stderr",
     "output_type": "stream",
     "text": [
      "/var/folders/27/wwsy152x0030nt23722_jnwc0000gq/T/ipykernel_1345/3985566527.py:8: SettingWithCopyWarning: \n",
      "A value is trying to be set on a copy of a slice from a DataFrame.\n",
      "Try using .loc[row_indexer,col_indexer] = value instead\n",
      "\n",
      "See the caveats in the documentation: https://pandas.pydata.org/pandas-docs/stable/user_guide/indexing.html#returning-a-view-versus-a-copy\n",
      "  data['order_purchase_timestamp'] = pd.to_datetime(data['order_purchase_timestamp'], format='%y-%m-%d')\n"
     ]
    },
    {
     "name": "stdout",
     "output_type": "stream",
     "text": [
      "Silhouetter Score: 0.564\n"
     ]
    },
    {
     "data": {
      "text/html": [
       "<div>\n",
       "<style scoped>\n",
       "    .dataframe tbody tr th:only-of-type {\n",
       "        vertical-align: middle;\n",
       "    }\n",
       "\n",
       "    .dataframe tbody tr th {\n",
       "        vertical-align: top;\n",
       "    }\n",
       "\n",
       "    .dataframe thead th {\n",
       "        text-align: right;\n",
       "    }\n",
       "</style>\n",
       "<table border=\"1\" class=\"dataframe\">\n",
       "  <thead>\n",
       "    <tr style=\"text-align: right;\">\n",
       "      <th></th>\n",
       "      <th>Cluster_initial</th>\n",
       "      <th>customer_unique_id</th>\n",
       "    </tr>\n",
       "  </thead>\n",
       "  <tbody>\n",
       "    <tr>\n",
       "      <th>0</th>\n",
       "      <td>2</td>\n",
       "      <td>861eff4711a542e4b93843c6dd7febb0</td>\n",
       "    </tr>\n",
       "    <tr>\n",
       "      <th>1</th>\n",
       "      <td>2</td>\n",
       "      <td>9eae34bbd3a474ec5d07949ca7de67c0</td>\n",
       "    </tr>\n",
       "    <tr>\n",
       "      <th>2</th>\n",
       "      <td>2</td>\n",
       "      <td>9eae34bbd3a474ec5d07949ca7de67c0</td>\n",
       "    </tr>\n",
       "    <tr>\n",
       "      <th>3</th>\n",
       "      <td>2</td>\n",
       "      <td>3c799d181c34d51f6d44bbbc563024db</td>\n",
       "    </tr>\n",
       "    <tr>\n",
       "      <th>4</th>\n",
       "      <td>2</td>\n",
       "      <td>23397e992b09769faf5e66f9e171a241</td>\n",
       "    </tr>\n",
       "  </tbody>\n",
       "</table>\n",
       "</div>"
      ],
      "text/plain": [
       "   Cluster_initial                customer_unique_id\n",
       "0                2  861eff4711a542e4b93843c6dd7febb0\n",
       "1                2  9eae34bbd3a474ec5d07949ca7de67c0\n",
       "2                2  9eae34bbd3a474ec5d07949ca7de67c0\n",
       "3                2  3c799d181c34d51f6d44bbbc563024db\n",
       "4                2  23397e992b09769faf5e66f9e171a241"
      ]
     },
     "execution_count": 42,
     "metadata": {},
     "output_type": "execute_result"
    }
   ],
   "source": [
    "# Kmeans clustering pour la première année\n",
    "#----------------------------------------------\n",
    "data=df9[['customer_unique_id','order_id','order_purchase_timestamp', 'delivery_duration','total_cost', 'mean_score', 'total_orders','Recency','Frequency','Monetary']]\n",
    "tmin0=dt.datetime(2016,10,3)\n",
    "tmax0=dt.datetime(2017,10,3)\n",
    "#---------------------------------------------------------------------------------------------------\n",
    "    \n",
    "# Faire le filtre temporel sur les données brute df9\n",
    "    \n",
    "data['order_purchase_timestamp'] = pd.to_datetime(data['order_purchase_timestamp'], format='%y-%m-%d')\n",
    "    \n",
    "data=data[(data['order_purchase_timestamp'] >= tmin0)& (data['order_purchase_timestamp'] <= tmax0)]\n",
    "#---------------------------------------------------------------------------------------------------\n",
    "    \n",
    "    # Calcul  de R,F, M après le filtre\n",
    "    \n",
    "    \n",
    "rfm=data.groupby('customer_unique_id').\\\n",
    "agg({'order_purchase_timestamp':lambda x: (today-x.max()).days,'order_id':lambda x: x.nunique(),\n",
    "                                         'total_cost':'mean'})\n",
    "#renaming the columns of rfm\n",
    "\n",
    "rfm['order_purchase_timestamp'] = rfm['order_purchase_timestamp'].astype(int)\n",
    "\n",
    "rfm.rename(columns={'order_purchase_timestamp': 'Recency',\n",
    "                         'order_id': 'Frequency',\n",
    "                         'total_cost': 'Monetary'}, inplace=True)\n",
    "    \n",
    "#---------------------------------------------------------------------------------------------------\n",
    "    # StandardScaler\n",
    "    \n",
    "scaler =StandardScaler()\n",
    "        #scaler = MinMaxScaler()\n",
    "        \n",
    "data = data.drop(columns=['order_purchase_timestamp']) \n",
    "        \n",
    "    \n",
    "data = pd.DataFrame(scaler.fit_transform(data.select_dtypes('number')), index=data.select_dtypes('number').index, columns=data.select_dtypes('number').columns).reset_index()\n",
    "#---------------------------------------------------------------------------------------------------\n",
    "    # Kmeans \n",
    "     # Building clustering model with KMeans,  K=4 \n",
    "kmeans = KMeans(n_clusters=4, init='k-means++', max_iter=1000, random_state=20)\n",
    "         # Fit and predict the KMeans model\n",
    "y_kmeans=kmeans.fit_predict(data)             # y_kmeans = number of Clusters\n",
    "    # calcul des scores\n",
    "score = silhouette_score(data, kmeans.labels_, metric='euclidean')\n",
    "print('Silhouetter Score: %.3f' % score)\n",
    "#---------------------------------------------------------------------------------------------------\n",
    "  \n",
    "data_clusters = pd.DataFrame(data.select_dtypes('number'))\n",
    "\n",
    "data_clusters['Cluster'] = kmeans.labels_ \n",
    "\n",
    "data_clusters[\"customer_unique_id\"]=df9[\"customer_unique_id\"]\n",
    "data_clusters=data_clusters.drop(columns=[\"index\"])\n",
    "data_clusters.rename(columns={\"Cluster\": \"Cluster_initial\"}, inplace=True)\n",
    "data_t0=data_clusters[[\"Cluster_initial\",\"customer_unique_id\"]]\n",
    "data_t0.head()\n",
    "\n"
   ]
  },
  {
   "cell_type": "code",
   "execution_count": 43,
   "id": "2815f8c2",
   "metadata": {},
   "outputs": [
    {
     "data": {
      "text/plain": [
       "2    6793\n",
       "1    6256\n",
       "0    6219\n",
       "3    6159\n",
       "Name: Cluster_initial, dtype: int64"
      ]
     },
     "execution_count": 43,
     "metadata": {},
     "output_type": "execute_result"
    }
   ],
   "source": [
    "data_t0[\"Cluster_initial\"].value_counts()"
   ]
  },
  {
   "cell_type": "code",
   "execution_count": 44,
   "id": "fc5bc507",
   "metadata": {},
   "outputs": [
    {
     "data": {
      "text/plain": [
       "(25427, 2)"
      ]
     },
     "execution_count": 44,
     "metadata": {},
     "output_type": "execute_result"
    }
   ],
   "source": [
    "data_t0.shape"
   ]
  },
  {
   "cell_type": "code",
   "execution_count": 45,
   "id": "dd585887",
   "metadata": {},
   "outputs": [
    {
     "data": {
      "text/plain": [
       "4"
      ]
     },
     "execution_count": 45,
     "metadata": {},
     "output_type": "execute_result"
    }
   ],
   "source": [
    "data_t0[\"Cluster_initial\"].nunique()"
   ]
  },
  {
   "cell_type": "code",
   "execution_count": 46,
   "id": "10c5becf",
   "metadata": {},
   "outputs": [
    {
     "name": "stderr",
     "output_type": "stream",
     "text": [
      "/var/folders/27/wwsy152x0030nt23722_jnwc0000gq/T/ipykernel_1345/892460594.py:16: SettingWithCopyWarning: \n",
      "A value is trying to be set on a copy of a slice from a DataFrame.\n",
      "Try using .loc[row_indexer,col_indexer] = value instead\n",
      "\n",
      "See the caveats in the documentation: https://pandas.pydata.org/pandas-docs/stable/user_guide/indexing.html#returning-a-view-versus-a-copy\n",
      "  data['order_purchase_timestamp'] = pd.to_datetime(data['order_purchase_timestamp'], format='%y-%m-%d')\n"
     ]
    },
    {
     "name": "stdout",
     "output_type": "stream",
     "text": [
      "Silhouette Score: 0.564\n",
      "Adjusted Rand Index: 1.000\n",
      "Adjusted Mutual Information: 1.000\n",
      "        Cluster_initial                customer_unique_id  Cluster\n",
      "0                     2  861eff4711a542e4b93843c6dd7febb0        2\n",
      "1                     2  9eae34bbd3a474ec5d07949ca7de67c0        2\n",
      "2                     2  9eae34bbd3a474ec5d07949ca7de67c0        2\n",
      "3                     2  9eae34bbd3a474ec5d07949ca7de67c0        2\n",
      "4                     2  9eae34bbd3a474ec5d07949ca7de67c0        2\n",
      "...                 ...                               ...      ...\n",
      "154152                1  de57ad8af11f398241e77360903e232d        1\n",
      "154153                1  de57ad8af11f398241e77360903e232d        1\n",
      "154154                1  de57ad8af11f398241e77360903e232d        1\n",
      "154155                1  de57ad8af11f398241e77360903e232d        1\n",
      "154156                1  dc460c8c5a048d071e9fe80391c1e4da        1\n",
      "\n",
      "[154157 rows x 3 columns]\n"
     ]
    },
    {
     "name": "stderr",
     "output_type": "stream",
     "text": [
      "/var/folders/27/wwsy152x0030nt23722_jnwc0000gq/T/ipykernel_1345/892460594.py:16: SettingWithCopyWarning: \n",
      "A value is trying to be set on a copy of a slice from a DataFrame.\n",
      "Try using .loc[row_indexer,col_indexer] = value instead\n",
      "\n",
      "See the caveats in the documentation: https://pandas.pydata.org/pandas-docs/stable/user_guide/indexing.html#returning-a-view-versus-a-copy\n",
      "  data['order_purchase_timestamp'] = pd.to_datetime(data['order_purchase_timestamp'], format='%y-%m-%d')\n"
     ]
    },
    {
     "name": "stdout",
     "output_type": "stream",
     "text": [
      "Silhouette Score: 0.562\n",
      "Adjusted Rand Index: 0.668\n",
      "Adjusted Mutual Information: 0.735\n",
      "        Cluster_initial                customer_unique_id  Cluster\n",
      "0                     2  861eff4711a542e4b93843c6dd7febb0        1\n",
      "1                     2  9eae34bbd3a474ec5d07949ca7de67c0        1\n",
      "2                     2  9eae34bbd3a474ec5d07949ca7de67c0        1\n",
      "3                     2  9eae34bbd3a474ec5d07949ca7de67c0        1\n",
      "4                     2  9eae34bbd3a474ec5d07949ca7de67c0        1\n",
      "...                 ...                               ...      ...\n",
      "165667                1  de57ad8af11f398241e77360903e232d        0\n",
      "165668                1  de57ad8af11f398241e77360903e232d        0\n",
      "165669                1  de57ad8af11f398241e77360903e232d        0\n",
      "165670                1  de57ad8af11f398241e77360903e232d        0\n",
      "165671                1  dc460c8c5a048d071e9fe80391c1e4da        0\n",
      "\n",
      "[165672 rows x 3 columns]\n"
     ]
    },
    {
     "name": "stderr",
     "output_type": "stream",
     "text": [
      "/var/folders/27/wwsy152x0030nt23722_jnwc0000gq/T/ipykernel_1345/892460594.py:16: SettingWithCopyWarning: \n",
      "A value is trying to be set on a copy of a slice from a DataFrame.\n",
      "Try using .loc[row_indexer,col_indexer] = value instead\n",
      "\n",
      "See the caveats in the documentation: https://pandas.pydata.org/pandas-docs/stable/user_guide/indexing.html#returning-a-view-versus-a-copy\n",
      "  data['order_purchase_timestamp'] = pd.to_datetime(data['order_purchase_timestamp'], format='%y-%m-%d')\n"
     ]
    },
    {
     "name": "stdout",
     "output_type": "stream",
     "text": [
      "Silhouette Score: 0.565\n",
      "Adjusted Rand Index: 0.590\n",
      "Adjusted Mutual Information: 0.670\n",
      "        Cluster_initial                customer_unique_id  Cluster\n",
      "0                     2  861eff4711a542e4b93843c6dd7febb0        2\n",
      "1                     2  9eae34bbd3a474ec5d07949ca7de67c0        2\n",
      "2                     2  9eae34bbd3a474ec5d07949ca7de67c0        2\n",
      "3                     2  9eae34bbd3a474ec5d07949ca7de67c0        2\n",
      "4                     2  9eae34bbd3a474ec5d07949ca7de67c0        2\n",
      "...                 ...                               ...      ...\n",
      "181130                1  de57ad8af11f398241e77360903e232d        3\n",
      "181131                1  de57ad8af11f398241e77360903e232d        3\n",
      "181132                1  de57ad8af11f398241e77360903e232d        3\n",
      "181133                1  de57ad8af11f398241e77360903e232d        3\n",
      "181134                1  dc460c8c5a048d071e9fe80391c1e4da        3\n",
      "\n",
      "[181135 rows x 3 columns]\n"
     ]
    },
    {
     "name": "stderr",
     "output_type": "stream",
     "text": [
      "/var/folders/27/wwsy152x0030nt23722_jnwc0000gq/T/ipykernel_1345/892460594.py:16: SettingWithCopyWarning: \n",
      "A value is trying to be set on a copy of a slice from a DataFrame.\n",
      "Try using .loc[row_indexer,col_indexer] = value instead\n",
      "\n",
      "See the caveats in the documentation: https://pandas.pydata.org/pandas-docs/stable/user_guide/indexing.html#returning-a-view-versus-a-copy\n",
      "  data['order_purchase_timestamp'] = pd.to_datetime(data['order_purchase_timestamp'], format='%y-%m-%d')\n"
     ]
    },
    {
     "name": "stdout",
     "output_type": "stream",
     "text": [
      "Silhouette Score: 0.567\n",
      "Adjusted Rand Index: 0.526\n",
      "Adjusted Mutual Information: 0.632\n",
      "        Cluster_initial                customer_unique_id  Cluster\n",
      "0                     2  861eff4711a542e4b93843c6dd7febb0        2\n",
      "1                     2  9eae34bbd3a474ec5d07949ca7de67c0        2\n",
      "2                     2  9eae34bbd3a474ec5d07949ca7de67c0        2\n",
      "3                     2  9eae34bbd3a474ec5d07949ca7de67c0        2\n",
      "4                     2  9eae34bbd3a474ec5d07949ca7de67c0        2\n",
      "...                 ...                               ...      ...\n",
      "193632                1  de57ad8af11f398241e77360903e232d        3\n",
      "193633                1  de57ad8af11f398241e77360903e232d        3\n",
      "193634                1  de57ad8af11f398241e77360903e232d        3\n",
      "193635                1  de57ad8af11f398241e77360903e232d        3\n",
      "193636                1  dc460c8c5a048d071e9fe80391c1e4da        3\n",
      "\n",
      "[193637 rows x 3 columns]\n"
     ]
    },
    {
     "name": "stderr",
     "output_type": "stream",
     "text": [
      "/var/folders/27/wwsy152x0030nt23722_jnwc0000gq/T/ipykernel_1345/892460594.py:16: SettingWithCopyWarning: \n",
      "A value is trying to be set on a copy of a slice from a DataFrame.\n",
      "Try using .loc[row_indexer,col_indexer] = value instead\n",
      "\n",
      "See the caveats in the documentation: https://pandas.pydata.org/pandas-docs/stable/user_guide/indexing.html#returning-a-view-versus-a-copy\n",
      "  data['order_purchase_timestamp'] = pd.to_datetime(data['order_purchase_timestamp'], format='%y-%m-%d')\n"
     ]
    },
    {
     "name": "stdout",
     "output_type": "stream",
     "text": [
      "Silhouette Score: 0.568\n",
      "Adjusted Rand Index: 0.412\n",
      "Adjusted Mutual Information: 0.548\n",
      "        Cluster_initial                customer_unique_id  Cluster\n",
      "0                     2  861eff4711a542e4b93843c6dd7febb0        3\n",
      "1                     2  9eae34bbd3a474ec5d07949ca7de67c0        3\n",
      "2                     2  9eae34bbd3a474ec5d07949ca7de67c0        3\n",
      "3                     2  9eae34bbd3a474ec5d07949ca7de67c0        3\n",
      "4                     2  9eae34bbd3a474ec5d07949ca7de67c0        3\n",
      "...                 ...                               ...      ...\n",
      "221268                1  de57ad8af11f398241e77360903e232d        0\n",
      "221269                1  de57ad8af11f398241e77360903e232d        0\n",
      "221270                1  de57ad8af11f398241e77360903e232d        0\n",
      "221271                1  de57ad8af11f398241e77360903e232d        0\n",
      "221272                1  dc460c8c5a048d071e9fe80391c1e4da        0\n",
      "\n",
      "[221273 rows x 3 columns]\n"
     ]
    },
    {
     "name": "stderr",
     "output_type": "stream",
     "text": [
      "/var/folders/27/wwsy152x0030nt23722_jnwc0000gq/T/ipykernel_1345/892460594.py:16: SettingWithCopyWarning: \n",
      "A value is trying to be set on a copy of a slice from a DataFrame.\n",
      "Try using .loc[row_indexer,col_indexer] = value instead\n",
      "\n",
      "See the caveats in the documentation: https://pandas.pydata.org/pandas-docs/stable/user_guide/indexing.html#returning-a-view-versus-a-copy\n",
      "  data['order_purchase_timestamp'] = pd.to_datetime(data['order_purchase_timestamp'], format='%y-%m-%d')\n"
     ]
    },
    {
     "name": "stdout",
     "output_type": "stream",
     "text": [
      "Silhouette Score: 0.569\n",
      "Adjusted Rand Index: 0.432\n",
      "Adjusted Mutual Information: 0.563\n",
      "        Cluster_initial                customer_unique_id  Cluster\n",
      "0                     2  861eff4711a542e4b93843c6dd7febb0        2\n",
      "1                     2  9eae34bbd3a474ec5d07949ca7de67c0        2\n",
      "2                     2  9eae34bbd3a474ec5d07949ca7de67c0        2\n",
      "3                     2  9eae34bbd3a474ec5d07949ca7de67c0        2\n",
      "4                     2  9eae34bbd3a474ec5d07949ca7de67c0        2\n",
      "...                 ...                               ...      ...\n",
      "258116                1  de57ad8af11f398241e77360903e232d        0\n",
      "258117                1  de57ad8af11f398241e77360903e232d        0\n",
      "258118                1  de57ad8af11f398241e77360903e232d        0\n",
      "258119                1  de57ad8af11f398241e77360903e232d        0\n",
      "258120                1  dc460c8c5a048d071e9fe80391c1e4da        0\n",
      "\n",
      "[258121 rows x 3 columns]\n"
     ]
    },
    {
     "name": "stderr",
     "output_type": "stream",
     "text": [
      "/var/folders/27/wwsy152x0030nt23722_jnwc0000gq/T/ipykernel_1345/892460594.py:16: SettingWithCopyWarning: \n",
      "A value is trying to be set on a copy of a slice from a DataFrame.\n",
      "Try using .loc[row_indexer,col_indexer] = value instead\n",
      "\n",
      "See the caveats in the documentation: https://pandas.pydata.org/pandas-docs/stable/user_guide/indexing.html#returning-a-view-versus-a-copy\n",
      "  data['order_purchase_timestamp'] = pd.to_datetime(data['order_purchase_timestamp'], format='%y-%m-%d')\n"
     ]
    },
    {
     "name": "stdout",
     "output_type": "stream",
     "text": [
      "Silhouette Score: 0.570\n",
      "Adjusted Rand Index: 0.343\n",
      "Adjusted Mutual Information: 0.483\n",
      "        Cluster_initial                customer_unique_id  Cluster\n",
      "0                     2  861eff4711a542e4b93843c6dd7febb0        1\n",
      "1                     2  9eae34bbd3a474ec5d07949ca7de67c0        1\n",
      "2                     2  9eae34bbd3a474ec5d07949ca7de67c0        1\n",
      "3                     2  9eae34bbd3a474ec5d07949ca7de67c0        1\n",
      "4                     2  9eae34bbd3a474ec5d07949ca7de67c0        1\n",
      "...                 ...                               ...      ...\n",
      "290029                1  de57ad8af11f398241e77360903e232d        3\n",
      "290030                1  de57ad8af11f398241e77360903e232d        3\n",
      "290031                1  de57ad8af11f398241e77360903e232d        3\n",
      "290032                1  de57ad8af11f398241e77360903e232d        3\n",
      "290033                1  dc460c8c5a048d071e9fe80391c1e4da        3\n",
      "\n",
      "[290034 rows x 3 columns]\n"
     ]
    },
    {
     "name": "stderr",
     "output_type": "stream",
     "text": [
      "/var/folders/27/wwsy152x0030nt23722_jnwc0000gq/T/ipykernel_1345/892460594.py:16: SettingWithCopyWarning: \n",
      "A value is trying to be set on a copy of a slice from a DataFrame.\n",
      "Try using .loc[row_indexer,col_indexer] = value instead\n",
      "\n",
      "See the caveats in the documentation: https://pandas.pydata.org/pandas-docs/stable/user_guide/indexing.html#returning-a-view-versus-a-copy\n",
      "  data['order_purchase_timestamp'] = pd.to_datetime(data['order_purchase_timestamp'], format='%y-%m-%d')\n"
     ]
    },
    {
     "name": "stdout",
     "output_type": "stream",
     "text": [
      "Silhouette Score: 0.570\n",
      "Adjusted Rand Index: 0.315\n",
      "Adjusted Mutual Information: 0.475\n",
      "        Cluster_initial                customer_unique_id  Cluster\n",
      "0                     2  861eff4711a542e4b93843c6dd7febb0        2\n",
      "1                     2  9eae34bbd3a474ec5d07949ca7de67c0        2\n",
      "2                     2  9eae34bbd3a474ec5d07949ca7de67c0        2\n",
      "3                     2  9eae34bbd3a474ec5d07949ca7de67c0        2\n",
      "4                     2  9eae34bbd3a474ec5d07949ca7de67c0        2\n",
      "...                 ...                               ...      ...\n",
      "318652                1  de57ad8af11f398241e77360903e232d        1\n",
      "318653                1  de57ad8af11f398241e77360903e232d        1\n",
      "318654                1  de57ad8af11f398241e77360903e232d        1\n",
      "318655                1  de57ad8af11f398241e77360903e232d        1\n",
      "318656                1  dc460c8c5a048d071e9fe80391c1e4da        1\n",
      "\n",
      "[318657 rows x 3 columns]\n"
     ]
    },
    {
     "name": "stderr",
     "output_type": "stream",
     "text": [
      "/var/folders/27/wwsy152x0030nt23722_jnwc0000gq/T/ipykernel_1345/892460594.py:16: SettingWithCopyWarning: \n",
      "A value is trying to be set on a copy of a slice from a DataFrame.\n",
      "Try using .loc[row_indexer,col_indexer] = value instead\n",
      "\n",
      "See the caveats in the documentation: https://pandas.pydata.org/pandas-docs/stable/user_guide/indexing.html#returning-a-view-versus-a-copy\n",
      "  data['order_purchase_timestamp'] = pd.to_datetime(data['order_purchase_timestamp'], format='%y-%m-%d')\n"
     ]
    },
    {
     "name": "stdout",
     "output_type": "stream",
     "text": [
      "Silhouette Score: 0.571\n",
      "Adjusted Rand Index: 0.294\n",
      "Adjusted Mutual Information: 0.513\n",
      "        Cluster_initial                customer_unique_id  Cluster\n",
      "0                     2  861eff4711a542e4b93843c6dd7febb0        2\n",
      "1                     2  9eae34bbd3a474ec5d07949ca7de67c0        2\n",
      "2                     2  9eae34bbd3a474ec5d07949ca7de67c0        2\n",
      "3                     2  9eae34bbd3a474ec5d07949ca7de67c0        2\n",
      "4                     2  9eae34bbd3a474ec5d07949ca7de67c0        2\n",
      "...                 ...                               ...      ...\n",
      "350565                1  de57ad8af11f398241e77360903e232d        1\n",
      "350566                1  de57ad8af11f398241e77360903e232d        1\n",
      "350567                1  de57ad8af11f398241e77360903e232d        1\n",
      "350568                1  de57ad8af11f398241e77360903e232d        1\n",
      "350569                1  dc460c8c5a048d071e9fe80391c1e4da        1\n",
      "\n",
      "[350570 rows x 3 columns]\n"
     ]
    },
    {
     "name": "stderr",
     "output_type": "stream",
     "text": [
      "/var/folders/27/wwsy152x0030nt23722_jnwc0000gq/T/ipykernel_1345/892460594.py:16: SettingWithCopyWarning: \n",
      "A value is trying to be set on a copy of a slice from a DataFrame.\n",
      "Try using .loc[row_indexer,col_indexer] = value instead\n",
      "\n",
      "See the caveats in the documentation: https://pandas.pydata.org/pandas-docs/stable/user_guide/indexing.html#returning-a-view-versus-a-copy\n",
      "  data['order_purchase_timestamp'] = pd.to_datetime(data['order_purchase_timestamp'], format='%y-%m-%d')\n"
     ]
    },
    {
     "name": "stdout",
     "output_type": "stream",
     "text": [
      "Silhouette Score: 0.571\n",
      "Adjusted Rand Index: 0.171\n",
      "Adjusted Mutual Information: 0.358\n",
      "        Cluster_initial                customer_unique_id  Cluster\n",
      "0                     2  861eff4711a542e4b93843c6dd7febb0        0\n",
      "1                     2  9eae34bbd3a474ec5d07949ca7de67c0        0\n",
      "2                     2  9eae34bbd3a474ec5d07949ca7de67c0        0\n",
      "3                     2  9eae34bbd3a474ec5d07949ca7de67c0        0\n",
      "4                     2  9eae34bbd3a474ec5d07949ca7de67c0        0\n",
      "...                 ...                               ...      ...\n",
      "370963                1  de57ad8af11f398241e77360903e232d        1\n",
      "370964                1  de57ad8af11f398241e77360903e232d        1\n",
      "370965                1  de57ad8af11f398241e77360903e232d        1\n",
      "370966                1  de57ad8af11f398241e77360903e232d        1\n",
      "370967                1  dc460c8c5a048d071e9fe80391c1e4da        1\n",
      "\n",
      "[370968 rows x 3 columns]\n"
     ]
    },
    {
     "name": "stderr",
     "output_type": "stream",
     "text": [
      "/var/folders/27/wwsy152x0030nt23722_jnwc0000gq/T/ipykernel_1345/892460594.py:16: SettingWithCopyWarning: \n",
      "A value is trying to be set on a copy of a slice from a DataFrame.\n",
      "Try using .loc[row_indexer,col_indexer] = value instead\n",
      "\n",
      "See the caveats in the documentation: https://pandas.pydata.org/pandas-docs/stable/user_guide/indexing.html#returning-a-view-versus-a-copy\n",
      "  data['order_purchase_timestamp'] = pd.to_datetime(data['order_purchase_timestamp'], format='%y-%m-%d')\n",
      "No artists with labels found to put in legend.  Note that artists whose label start with an underscore are ignored when legend() is called with no argument.\n",
      "No artists with labels found to put in legend.  Note that artists whose label start with an underscore are ignored when legend() is called with no argument.\n"
     ]
    },
    {
     "name": "stdout",
     "output_type": "stream",
     "text": [
      "Silhouette Score: 0.571\n",
      "Adjusted Rand Index: 0.096\n",
      "Adjusted Mutual Information: 0.262\n",
      "        Cluster_initial                customer_unique_id  Cluster\n",
      "0                     2  861eff4711a542e4b93843c6dd7febb0        1\n",
      "1                     2  9eae34bbd3a474ec5d07949ca7de67c0        1\n",
      "2                     2  9eae34bbd3a474ec5d07949ca7de67c0        1\n",
      "3                     2  9eae34bbd3a474ec5d07949ca7de67c0        1\n",
      "4                     2  9eae34bbd3a474ec5d07949ca7de67c0        1\n",
      "...                 ...                               ...      ...\n",
      "402218                1  de57ad8af11f398241e77360903e232d        2\n",
      "402219                1  de57ad8af11f398241e77360903e232d        2\n",
      "402220                1  de57ad8af11f398241e77360903e232d        2\n",
      "402221                1  de57ad8af11f398241e77360903e232d        2\n",
      "402222                1  dc460c8c5a048d071e9fe80391c1e4da        2\n",
      "\n",
      "[402223 rows x 3 columns]\n"
     ]
    },
    {
     "data": {
      "image/png": "[encoded data removed]",
      "text/plain": [
       "<Figure size 1296x720 with 2 Axes>"
      ]
     },
     "metadata": {},
     "output_type": "display_data"
    }
   ],
   "source": [
    "# Kmeans clustering avec timedelta pour comparaison\n",
    "# Meme étapes précédentes avec timedelta \n",
    "\n",
    "#-----------------------------------------------------------------------------------------------\n",
    "tmin=dt.datetime(2016,10, 3)\n",
    "aris= []\n",
    "amis= []\n",
    "\n",
    "for tmax in date_range(start=dt.datetime(2017,10,3),end=dt.datetime(2018, 8, 3),step=dt.timedelta(days=30)):\n",
    "\n",
    "#---------------------------------------------------------------------------------------------------------------\n",
    "\n",
    "    data=df9[['customer_unique_id','order_id','order_purchase_timestamp', 'delivery_duration',\n",
    "                  'total_cost', 'mean_score', 'total_orders','Recency','Frequency','Monetary']]\n",
    "\n",
    "        #-----------------------------------\n",
    "        # Faire le filtre temporel sur les données brute df9\n",
    "    data['order_purchase_timestamp'] = pd.to_datetime(data['order_purchase_timestamp'], format='%y-%m-%d')   \n",
    "    data = data[(data['order_purchase_timestamp'] >= tmin)& (data['order_purchase_timestamp'] <= tmax)]\n",
    "    \n",
    "        # Calcul  de R,F, M après le filtre\n",
    "        \n",
    "    rfm=data.groupby('customer_unique_id').\\\n",
    "    agg({'order_purchase_timestamp':lambda x: (today-x.max()).days,'order_id':lambda x: x.nunique(),\n",
    "                                         'total_cost':'mean'})\n",
    "        #renaming the columns of rfm\n",
    "\n",
    "    rfm['order_purchase_timestamp'] = rfm['order_purchase_timestamp'].astype(int)\n",
    "\n",
    "    rfm.rename(columns={'order_purchase_timestamp': 'Recency',\n",
    "                         'order_id': 'Frequency',\n",
    "                         'total_cost': 'Monetary'}, inplace=True)\n",
    "        \n",
    "    # StandardScaler\n",
    "    \n",
    "    scaler =StandardScaler()\n",
    "    \n",
    "    # suppression de la colonne 'order_purchase_timestamp'\n",
    "        \n",
    "    data = data.drop(columns=['order_purchase_timestamp']) \n",
    "          \n",
    "    data = pd.DataFrame(scaler.fit_transform(data.select_dtypes('number')), index=data.select_dtypes('number').index, \n",
    "                            columns=data.select_dtypes('number').columns).reset_index()\n",
    "       \n",
    "        #---------------------------------------------------------------------------\n",
    "        # Building clustering model with KMeans,  K=4 \n",
    "        \n",
    "    km = KMeans(n_clusters=4, init='k-means++', max_iter=1000, random_state=20)\n",
    "         # Fit and predict the KMeans model\n",
    "    y_km=km.fit_predict(data)             # y_km = number of Clusters\n",
    "        # calcul des scores\n",
    "    score_km = silhouette_score(data, km.labels_, metric='euclidean')\n",
    "    print('Silhouette Score: %.3f' % score_km)\n",
    "        # Dataframe avec Customer_unique_id et son cluster  (data_t1)\n",
    "    data_clust = pd.DataFrame(data.select_dtypes('number')) \n",
    "    data_clust['Cluster'] = km.labels_       #Finding the clusters for the records given in our dataset\n",
    "        \n",
    "        #data_t1=data.groupby('customer_unique_id').agg({'Cluster':lambda x: x.nunique()})\n",
    "    data_clust[\"customer_unique_id\"]=df9[\"customer_unique_id\"]\n",
    "    data_clust=data_clust.drop(columns=[\"index\"])\n",
    "    data_t1=data_clust[[\"Cluster\",\"customer_unique_id\"]]\n",
    "   \n",
    "    #----------------------------------------------------------------------\n",
    "    \n",
    "    if len(kmeans.labels_)<= len(km.labels_):\n",
    "        labels_true=kmeans.labels_ \n",
    "        labels= km.labels_[0:len(kmeans.labels_)]\n",
    "    else:\n",
    "        labels_true=kmeans.labels_[0:len(km.labels_)]\n",
    "        labels= km.labels_\n",
    "    print(\"Adjusted Rand Index: %0.3f\"% metrics.adjusted_rand_score(labels_true, labels))\n",
    "    print(\"Adjusted Mutual Information: %0.3f\"% metrics.adjusted_mutual_info_score(labels_true, labels))\n",
    "        #---------------------------------------------------------------------------------------------------\n",
    "        #Jointure   des dataframes  data_t0 et  data_t1 sur la colonne Customer_unique_id \n",
    "    df_clus = pd.merge(data_t0, data_t1, on='customer_unique_id')\n",
    "    print(df_clus)\n",
    "#---------------------------------------------------------------------------------------------------\n",
    "  # plot ARI Score\n",
    "    ari_kmeans=metrics.adjusted_rand_score(labels_true, labels)\n",
    "    ami_kmeans=metrics.adjusted_mutual_info_score(labels_true, labels)\n",
    "    aris.append(ari_kmeans)\n",
    "    amis.append(ami_kmeans)\n",
    "\n",
    "plt.figure(figsize=(18,10))\n",
    "plt.subplot(221)\n",
    "plt.plot(aris)\n",
    "plt.title(\"Stabilité temporelle de Kmeans Clustering\",fontweight='bold', fontsize=16)\n",
    "plt.xlabel(\"Période(mois)\")\n",
    "plt.ylabel(\"ARI score\")\n",
    "plt.legend(fontsize=16)\n",
    "plt.subplot(222)\n",
    "plt.plot(amis)\n",
    "plt.xlabel(\"Période(mois)\")\n",
    "plt.ylabel(\"AMI score\")\n",
    "plt.legend(fontsize=16)\n",
    "plt.grid(True)\n",
    "plt.show()\n",
    "\n"
   ]
  }
 ],
 "metadata": {
  "kernelspec": {
   "display_name": "Python 3 (ipykernel)",
   "language": "python",
   "name": "python3"
  },
  "language_info": {
   "codemirror_mode": {
    "name": "ipython",
    "version": 3
   },
   "file_extension": ".py",
   "mimetype": "text/x-python",
   "name": "python",
   "nbconvert_exporter": "python",
   "pygments_lexer": "ipython3",
   "version": "3.9.12"
  }
 },
 "nbformat": 4,
 "nbformat_minor": 5
}
